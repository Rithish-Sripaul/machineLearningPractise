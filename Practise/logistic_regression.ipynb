{
 "cells": [
  {
   "cell_type": "code",
   "execution_count": 1,
   "id": "8a8dd0d9",
   "metadata": {},
   "outputs": [],
   "source": [
    "import pandas as pd\n",
    "import numpy as np\n",
    "import matplotlib.pyplot as plt\n",
    "import copy, math"
   ]
  },
  {
   "cell_type": "code",
   "execution_count": 2,
   "id": "3ad5e475",
   "metadata": {},
   "outputs": [],
   "source": [
    "X_train = np.array([[0.5, 1.5], [1,1], [1.5, 0.5], [3, 0.5], [2, 2], [1, 2.5]])\n",
    "y_train = np.array([0, 0, 0, 1, 1, 1])"
   ]
  },
  {
   "cell_type": "code",
   "execution_count": 25,
   "id": "1277edd0",
   "metadata": {},
   "outputs": [],
   "source": [
    "def plot_data(x, y, ax):\n",
    "    pos = y == 1\n",
    "    neg = y == 0\n",
    "    pos = pos.reshape(-1)\n",
    "    neg = neg.reshape(-1)\n",
    "    \n",
    "    print(x[pos, 0], x[pos, 1])\n",
    "    ax.scatter(x[pos, 0], x[pos, 1], marker='x', c=\"red\")\n",
    "    ax.scatter(x[neg, 0], x[neg, 1])"
   ]
  },
  {
   "cell_type": "code",
   "execution_count": 26,
   "id": "3326ce18",
   "metadata": {},
   "outputs": [
    {
     "name": "stdout",
     "output_type": "stream",
     "text": [
      "[3. 2. 1.] [0.5 2.  2.5]\n"
     ]
    },
    {
     "data": {
      "text/plain": [
       "(0.0, 4.0, 0.0, 4.0)"
      ]
     },
     "execution_count": 26,
     "metadata": {},
     "output_type": "execute_result"
    },
    {
     "data": {
      "image/png": "[encoded data removed]",
      "text/plain": [
       "<Figure size 288x288 with 1 Axes>"
      ]
     },
     "metadata": {
      "needs_background": "light"
     },
     "output_type": "display_data"
    }
   ],
   "source": [
    "fig, ax = plt.subplots(1, 1, figsize=(4, 4))\n",
    "plot_data(X_train, y_train, ax)\n",
    "\n",
    "ax.axis([0, 4, 0, 4])"
   ]
  },
  {
   "cell_type": "code",
   "execution_count": 27,
   "id": "d07f6cd7",
   "metadata": {},
   "outputs": [],
   "source": [
    "def sigmoid(z):\n",
    "    return 1 / (1 + np.exp(-z))"
   ]
  },
  {
   "cell_type": "code",
   "execution_count": 28,
   "id": "74842116",
   "metadata": {},
   "outputs": [],
   "source": [
    "def compute_cost_logistic(x, y, w, b):\n",
    "    m, n = x.shape\n",
    "    cost = 0\n",
    "    \n",
    "    for i in range(m):\n",
    "        z = np.dot(x[i], w) + b\n",
    "        f_wb = sigmoid(z)\n",
    "        cost += (-y[i]*np.log(f_wb)) - (1-y[i])*np.log(1-f_wb)\n",
    "    return cost / m"
   ]
  },
  {
   "cell_type": "code",
   "execution_count": 29,
   "id": "9376d1fc",
   "metadata": {},
   "outputs": [],
   "source": [
    "def compute_gradient(x, y, w, b):\n",
    "    m, n = x.shape\n",
    "    dj_dw = np.zeros(n)\n",
    "    dj_db = 0\n",
    "    for i in range(m):\n",
    "        f_wb = sigmoid(np.dot(x[i], w) + b)\n",
    "        err = f_wb - y[i]\n",
    "        for j in range(n):\n",
    "            dj_dw[j] += err * x[i, j]\n",
    "        dj_db += err\n",
    "    return dj_dw / m, dj_db / m"
   ]
  },
  {
   "cell_type": "code",
   "execution_count": 31,
   "id": "309be3ae",
   "metadata": {},
   "outputs": [],
   "source": [
    "def gradient_descent(x, y, w_in, b_in, alpha, num_iter, compute_cost, compute_gradient):\n",
    "    m, n = x.shape\n",
    "    w = copy.deepcopy(w_in)\n",
    "    b = b_in\n",
    "    j_hist = []\n",
    "    for i in range(num_iter):\n",
    "        dj_dw, dj_db = compute_gradient(x, y, w, b)\n",
    "        \n",
    "        w = w - alpha*dj_dw\n",
    "        b = b - alpha*dj_db\n",
    "        \n",
    "        if i < 10000:\n",
    "            j_hist.append(compute_cost(x, y, w, b))\n",
    "         \n",
    "        if i % math.ceil(num_iter / 10) == 0:\n",
    "            print(f\"Iteration: {i}\\t Cost: {j_hist[i]}\")\n",
    "        \n",
    "    return w, b, j_hist"
   ]
  },
  {
   "cell_type": "code",
   "execution_count": 33,
   "id": "6695ef9d",
   "metadata": {},
   "outputs": [
    {
     "name": "stdout",
     "output_type": "stream",
     "text": [
      "Iteration: 0\t Cost: 0.684610468560574\n",
      "Iteration: 1000\t Cost: 0.1590977666870457\n",
      "Iteration: 2000\t Cost: 0.08460064176930078\n",
      "Iteration: 3000\t Cost: 0.05705327279402531\n",
      "Iteration: 4000\t Cost: 0.04290759421682\n",
      "Iteration: 5000\t Cost: 0.03433847729884557\n",
      "Iteration: 6000\t Cost: 0.02860379802212006\n",
      "Iteration: 7000\t Cost: 0.02450156960879306\n",
      "Iteration: 8000\t Cost: 0.02142370332569295\n",
      "Iteration: 9000\t Cost: 0.019030137124109114\n",
      "[5.28123029 5.07815608] -14.222409982019837\n"
     ]
    }
   ],
   "source": [
    "w_in = np.zeros(X_train.shape[1])\n",
    "b_in = 0\n",
    "alpha = 0.1\n",
    "num_iter = 10000\n",
    "\n",
    "w, b, j_hist = gradient_descent(X_train, y_train, w_in, b_in, alpha, num_iter, compute_cost_logistic, compute_gradient)\n",
    "print(w, b)"
   ]
  },
  {
   "cell_type": "code",
   "execution_count": 34,
   "id": "d271570c",
   "metadata": {},
   "outputs": [
    {
     "data": {
      "image/png": "[encoded data removed]",
      "text/plain": [
       "<Figure size 432x288 with 1 Axes>"
      ]
     },
     "metadata": {
      "needs_background": "light"
     },
     "output_type": "display_data"
    }
   ],
   "source": [
    "plt.plot(j_hist)\n",
    "plt.show()"
   ]
  },
  {
   "cell_type": "code",
   "execution_count": 38,
   "id": "6571563e",
   "metadata": {},
   "outputs": [
    {
     "name": "stdout",
     "output_type": "stream",
     "text": [
      "[3. 2. 1.] [0.5 2.  2.5]\n"
     ]
    },
    {
     "data": {
      "image/png": "[encoded data removed]",
      "text/plain": [
       "<Figure size 288x288 with 1 Axes>"
      ]
     },
     "metadata": {
      "needs_background": "light"
     },
     "output_type": "display_data"
    }
   ],
   "source": [
    "fig, ax = plt.subplots(1, 1, figsize=(4, 4))\n",
    "plot_data(X_train, y_train, ax)\n",
    "\n",
    "\n",
    "x0 = -b/w[0]\n",
    "x1 = -b/w[1]\n",
    "ax.axis([0, 4, 0, 4])\n",
    "plt.plot([0, x0], [x1, 0])\n",
    "plt.show()"
   ]
  },
  {
   "cell_type": "code",
   "execution_count": null,
   "id": "cc5cc2a4",
   "metadata": {},
   "outputs": [],
   "source": []
  }
 ],
 "metadata": {
  "kernelspec": {
   "display_name": "Python 3 (ipykernel)",
   "language": "python",
   "name": "python3"
  },
  "language_info": {
   "codemirror_mode": {
    "name": "ipython",
    "version": 3
   },
   "file_extension": ".py",
   "mimetype": "text/x-python",
   "name": "python",
   "nbconvert_exporter": "python",
   "pygments_lexer": "ipython3",
   "version": "3.9.7"
  }
 },
 "nbformat": 4,
 "nbformat_minor": 5
}
