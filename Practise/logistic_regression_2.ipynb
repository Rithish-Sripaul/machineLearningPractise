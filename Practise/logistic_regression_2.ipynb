{
 "cells": [
  {
   "cell_type": "code",
   "execution_count": 9,
   "id": "d9f701f9",
   "metadata": {},
   "outputs": [],
   "source": [
    "import pandas as pd\n",
    "import numpy as np\n",
    "import matplotlib.pyplot as plt\n",
    "import copy, math"
   ]
  },
  {
   "cell_type": "code",
   "execution_count": 2,
   "id": "ca6e48fe",
   "metadata": {},
   "outputs": [],
   "source": [
    "X_train = np.array([[0.5, 1.5], [1,1], [1.5, 0.5], [3, 0.5], [2, 2], [1, 2.5]])\n",
    "y_train = np.array([0, 0, 0, 1, 1, 1])"
   ]
  },
  {
   "cell_type": "code",
   "execution_count": 3,
   "id": "03371231",
   "metadata": {},
   "outputs": [],
   "source": [
    "def plot_data(x, y, ax):\n",
    "    pos = y == 1\n",
    "    neg = y == 0\n",
    "    pos = pos.reshape(-1)\n",
    "    neg = neg.reshape(-1)\n",
    "    \n",
    "    ax.scatter(x[pos, 0], x[pos, 1], marker=\"x\")\n",
    "    ax.scatter(x[neg, 0], x[neg, 1], c=\"red\")"
   ]
  },
  {
   "cell_type": "code",
   "execution_count": 5,
   "id": "a5106596",
   "metadata": {},
   "outputs": [
    {
     "data": {
      "image/png": "[encoded data removed]",
      "text/plain": [
       "<Figure size 288x288 with 1 Axes>"
      ]
     },
     "metadata": {
      "needs_background": "light"
     },
     "output_type": "display_data"
    }
   ],
   "source": [
    "fig, ax = plt.subplots(1, 1, figsize=(4, 4))\n",
    "plot_data(X_train, y_train, ax)\n",
    "\n",
    "ax.axis([0, 4, 0, 3.5])\n",
    "plt.show()"
   ]
  },
  {
   "cell_type": "code",
   "execution_count": 6,
   "id": "4843725f",
   "metadata": {},
   "outputs": [],
   "source": [
    "def sigmoid(z):\n",
    "    return 1 / (1 + np.exp(-z))"
   ]
  },
  {
   "cell_type": "code",
   "execution_count": 7,
   "id": "2a5e601d",
   "metadata": {},
   "outputs": [],
   "source": [
    "def compute_cost_logistic(x, y, w, b):\n",
    "    m, n = x.shape\n",
    "    cost = 0\n",
    "    \n",
    "    for i in range(m):\n",
    "        z = np.dot(x[i], w) + b\n",
    "        f_wb = sigmoid(z)\n",
    "        cost += (-y[i]*np.log(f_wb) - (1 - y[i])*np.log(1 - f_wb))\n",
    "    return cost / m"
   ]
  },
  {
   "cell_type": "code",
   "execution_count": 12,
   "id": "098c211c",
   "metadata": {},
   "outputs": [],
   "source": [
    "def compute_gradient(x, y, w, b):\n",
    "    m, n = x.shape\n",
    "    dj_dw = np.zeros(n)\n",
    "    dj_db = 0\n",
    "    \n",
    "    for i in range(m):\n",
    "        z = np.dot(x[i], w) + b\n",
    "        f_wb = sigmoid(z)\n",
    "        err = f_wb - y[i]\n",
    "        \n",
    "        for j in range(n):\n",
    "            dj_dw[j] += err * x[i, j]\n",
    "        dj_db += err\n",
    "    \n",
    "    return dj_dw / m, dj_db / m"
   ]
  },
  {
   "cell_type": "code",
   "execution_count": 13,
   "id": "7ba01cb1",
   "metadata": {},
   "outputs": [],
   "source": [
    "def gradient_descent(x, y, w_in, b_in, alpha, num_iter, compute_cost, compute_gradient):\n",
    "    m, n = x.shape\n",
    "    w = copy.deepcopy(w_in)\n",
    "    b = b_in\n",
    "    j_hist = []\n",
    "    \n",
    "    for i in range(num_iter):\n",
    "        dj_dw, dj_db = compute_gradient(x, y, w, b)\n",
    "        \n",
    "        w = w - alpha*dj_dw\n",
    "        b = b - alpha*dj_db\n",
    "        \n",
    "        if i < 10000:\n",
    "            j_hist.append(compute_cost(x, y, w, b))\n",
    "    \n",
    "        if i % math.ceil(num_iter / 10) == 0:\n",
    "            print(f\"Iteration: {i}\\t Cost: {j_hist[i]}\")\n",
    "    return w, b, j_hist"
   ]
  },
  {
   "cell_type": "code",
   "execution_count": 24,
   "id": "11f348c1",
   "metadata": {},
   "outputs": [
    {
     "name": "stdout",
     "output_type": "stream",
     "text": [
      "Iteration: 0\t Cost: 0.684610468560574\n",
      "Iteration: 1000\t Cost: 0.1590977666870457\n",
      "Iteration: 2000\t Cost: 0.08460064176930078\n",
      "Iteration: 3000\t Cost: 0.05705327279402531\n",
      "Iteration: 4000\t Cost: 0.04290759421682\n",
      "Iteration: 5000\t Cost: 0.03433847729884557\n",
      "Iteration: 6000\t Cost: 0.02860379802212006\n",
      "Iteration: 7000\t Cost: 0.02450156960879306\n",
      "Iteration: 8000\t Cost: 0.02142370332569295\n",
      "Iteration: 9000\t Cost: 0.019030137124109114\n",
      "[5.28123029 5.07815608] -14.222409982019837\n"
     ]
    }
   ],
   "source": [
    "w_in = np.zeros(X_train.shape[1])\n",
    "b_in = 0\n",
    "alpha = 0.1\n",
    "num_iter = 10000\n",
    "\n",
    "w, b, j_hist = gradient_descent(X_train, y_train, w_in, b_in, alpha, num_iter, compute_cost_logistic, compute_gradient)\n",
    "print(w, b)"
   ]
  },
  {
   "cell_type": "code",
   "execution_count": 22,
   "id": "aa77cbc0",
   "metadata": {},
   "outputs": [
    {
     "data": {
      "image/png": "[encoded data removed]",
      "text/plain": [
       "<Figure size 432x288 with 1 Axes>"
      ]
     },
     "metadata": {
      "needs_background": "light"
     },
     "output_type": "display_data"
    }
   ],
   "source": [
    "plt.plot(j_hist)\n",
    "plt.show()"
   ]
  },
  {
   "cell_type": "code",
   "execution_count": 27,
   "id": "2428cd94",
   "metadata": {},
   "outputs": [
    {
     "data": {
      "image/png": "[encoded data removed]",
      "text/plain": [
       "<Figure size 360x288 with 1 Axes>"
      ]
     },
     "metadata": {
      "needs_background": "light"
     },
     "output_type": "display_data"
    }
   ],
   "source": [
    "fig, ax = plt.subplots(1, 1, figsize=(5, 4))\n",
    "\n",
    "plot_data(X_train, y_train, ax)\n",
    "ax.axis([0, 4, 0, 4])\n",
    "\n",
    "x0 = -b/w[0]\n",
    "x1 = -b/w[1]\n",
    "plt.plot([0, x0], [x0, 0], lw=1)\n",
    "plt.show()"
   ]
  },
  {
   "cell_type": "code",
   "execution_count": null,
   "id": "a0a0da06",
   "metadata": {},
   "outputs": [],
   "source": []
  }
 ],
 "metadata": {
  "kernelspec": {
   "display_name": "Python 3 (ipykernel)",
   "language": "python",
   "name": "python3"
  },
  "language_info": {
   "codemirror_mode": {
    "name": "ipython",
    "version": 3
   },
   "file_extension": ".py",
   "mimetype": "text/x-python",
   "name": "python",
   "nbconvert_exporter": "python",
   "pygments_lexer": "ipython3",
   "version": "3.9.7"
  }
 },
 "nbformat": 4,
 "nbformat_minor": 5
}
