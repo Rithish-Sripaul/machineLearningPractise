{
 "cells": [
  {
   "cell_type": "code",
   "execution_count": 1,
   "id": "d3e2f09d",
   "metadata": {},
   "outputs": [],
   "source": [
    "import pandas as pd\n",
    "import numpy as np\n",
    "import matplotlib.pyplot as plt"
   ]
  },
  {
   "cell_type": "code",
   "execution_count": 2,
   "id": "0f779750",
   "metadata": {},
   "outputs": [],
   "source": [
    "x_train = np.array([1, 2])\n",
    "y_train = np.array([300, 500])"
   ]
  },
  {
   "cell_type": "code",
   "execution_count": 7,
   "id": "caaf2b58",
   "metadata": {},
   "outputs": [],
   "source": [
    "def compute_cost(x, y, w, b):\n",
    "    m = x.shape[0]\n",
    "    j_wb = 0\n",
    "    \n",
    "    for i in range(0):\n",
    "        f_wb = w*x[i] + b\n",
    "        j_wb += (f_wb - y[i]) ** 2\n",
    "    \n",
    "    return j_wb / (2 * m)"
   ]
  },
  {
   "cell_type": "code",
   "execution_count": 4,
   "id": "89f7297f",
   "metadata": {},
   "outputs": [],
   "source": [
    "def compute_gradient(x, y, w, b):\n",
    "    m = x.shape[0]\n",
    "    dj_dw = 0\n",
    "    dj_db = 0\n",
    "    \n",
    "    for i in range(m):\n",
    "        f_wb = w*x[i] + b\n",
    "        dj_dw_i = (f_wb - y[i]) * x[i]\n",
    "        dj_db_i = (f_wb - y[i])\n",
    "        dj_dw = dj_dw_i\n",
    "        dj_db = dj_db_i\n",
    "    \n",
    "    return dj_dw / m, dj_db / m"
   ]
  },
  {
   "cell_type": "code",
   "execution_count": 9,
   "id": "808b9366",
   "metadata": {},
   "outputs": [],
   "source": [
    "def gradient_descent(x, y, w_in, b_in, alpha, num_iter, compute_cost, compute_gradient):\n",
    "    m = x.shape[0]\n",
    "    w, b = w_in, b_in\n",
    "    j_hist = []\n",
    "    p_hist = []\n",
    "    \n",
    "    for i in range(num_iter):\n",
    "        dj_dw, dj_db = compute_gradient(x, y, w, b)\n",
    "        w = w - alpha * dj_dw\n",
    "        b = b - alpha * dj_db\n",
    "        \n",
    "        if i < 10000:\n",
    "            j_hist.append(compute_cost(x, y, w, b))\n",
    "        \n",
    "    return w, b"
   ]
  },
  {
   "cell_type": "code",
   "execution_count": 10,
   "id": "8c9abbaf",
   "metadata": {},
   "outputs": [],
   "source": [
    "w_in = 0\n",
    "b_in = 0\n",
    "num_iter = 10000\n",
    "alpha = 0.1\n",
    "\n",
    "w, b = gradient_descent(x_train, y_train, w_in, b_in, alpha, num_iter, compute_cost, compute_gradient)"
   ]
  },
  {
   "cell_type": "code",
   "execution_count": 11,
   "id": "bb0f7522",
   "metadata": {},
   "outputs": [
    {
     "data": {
      "text/plain": [
       "(199.99999999999994, 99.99999999999997)"
      ]
     },
     "execution_count": 11,
     "metadata": {},
     "output_type": "execute_result"
    }
   ],
   "source": [
    "w, b"
   ]
  },
  {
   "cell_type": "code",
   "execution_count": null,
   "id": "7c9b2e3c",
   "metadata": {},
   "outputs": [],
   "source": []
  }
 ],
 "metadata": {
  "kernelspec": {
   "display_name": "Python 3 (ipykernel)",
   "language": "python",
   "name": "python3"
  },
  "language_info": {
   "codemirror_mode": {
    "name": "ipython",
    "version": 3
   },
   "file_extension": ".py",
   "mimetype": "text/x-python",
   "name": "python",
   "nbconvert_exporter": "python",
   "pygments_lexer": "ipython3",
   "version": "3.9.7"
  }
 },
 "nbformat": 4,
 "nbformat_minor": 5
}
