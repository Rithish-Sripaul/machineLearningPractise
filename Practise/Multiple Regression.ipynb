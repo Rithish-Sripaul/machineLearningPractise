{
 "cells": [
  {
   "cell_type": "code",
   "execution_count": 178,
   "id": "e31c1655",
   "metadata": {},
   "outputs": [],
   "source": [
    "import numpy as np\n",
    "import pandas as pd\n",
    "import matplotlib.pyplot as plt\n",
    "import copy, math"
   ]
  },
  {
   "cell_type": "code",
   "execution_count": 179,
   "id": "4fb8ff85",
   "metadata": {},
   "outputs": [],
   "source": [
    "def z_score_normalization(X):\n",
    "    mu = np.mean(X, axis=0)\n",
    "    sigma = np.std(X, axis=0)\n",
    "    X_norm = (X - mu) / sigma\n",
    "    return (X_norm, mu, sigma)"
   ]
  },
  {
   "cell_type": "code",
   "execution_count": 255,
   "id": "3dff7fc1",
   "metadata": {},
   "outputs": [],
   "source": [
    "dataset = pd.read_csv(\"../Housing.csv\")\n",
    "#X_train = dataset.iloc[:, 1:5].values\n",
    "#y_train = dataset.iloc[:, 0].values\n",
    "#X_features = [\"area\", \"bedroom\", \"bathrooms\", \"floors\"]\n",
    "X_train = np.array([[0.5, 1.5], [1,1], [1.5, 0.5], [3, 0.5], [2, 2], [1, 2.5]])\n",
    "y_train = np.array([0, 0, 0, 1, 1, 1])"
   ]
  },
  {
   "cell_type": "code",
   "execution_count": 256,
   "id": "96d0126b",
   "metadata": {},
   "outputs": [],
   "source": [
    "def display_x_train(X_train, X_features):\n",
    "    fig, ax = plt.subplots(1, 2, figsize=(12, 3), sharey=True)\n",
    "    for i in range(len(ax)):\n",
    "        ax[i].scatter(X_train[:, i], y_train, c=\"b\")\n",
    "        ax[i].set_xlabel(X_features[i])\n",
    "    plt.show()"
   ]
  },
  {
   "cell_type": "code",
   "execution_count": 244,
   "id": "8148cfe5",
   "metadata": {},
   "outputs": [
    {
     "data": {
      "image/png": "[encoded data removed]",
      "text/plain": [
       "<Figure size 864x216 with 2 Axes>"
      ]
     },
     "metadata": {
      "needs_background": "light"
     },
     "output_type": "display_data"
    }
   ],
   "source": [
    "display_x_train(X_train, X_features)"
   ]
  },
  {
   "cell_type": "code",
   "execution_count": 245,
   "id": "320cd434",
   "metadata": {},
   "outputs": [],
   "source": [
    "#max_X = copy.deepcopy(X_train[0])\n",
    "#for i in range(len(X_train)):\n",
    "#    for j in range(4):\n",
    "#        max_X[j] = max(max_X[j], X_train[i][j])\n",
    "#X_train = X_train / max_X\n",
    "\n",
    "#X_train, X_mu, x_sigma = z_score_normalization(X_train)\n",
    "#y_train = y_train / 10000"
   ]
  },
  {
   "cell_type": "code",
   "execution_count": 246,
   "id": "25eaf54a",
   "metadata": {},
   "outputs": [
    {
     "data": {
      "image/png": "[encoded data removed]",
      "text/plain": [
       "<Figure size 864x216 with 2 Axes>"
      ]
     },
     "metadata": {
      "needs_background": "light"
     },
     "output_type": "display_data"
    }
   ],
   "source": [
    "display_x_train(X_train, X_features)"
   ]
  },
  {
   "cell_type": "code",
   "execution_count": 257,
   "id": "b30fadcd",
   "metadata": {},
   "outputs": [],
   "source": [
    "def compute_cost(x, y, w, b):\n",
    "    m, n = x.shape\n",
    "    j_wb = 0\n",
    "    \n",
    "    for i in range(m):\n",
    "        f_wb = np.dot(x[i], w) + b\n",
    "        j_wb += (f_wb - y[i]) ** 2\n",
    "    return j_wb / (2 * m)"
   ]
  },
  {
   "cell_type": "code",
   "execution_count": 258,
   "id": "68dab28d",
   "metadata": {},
   "outputs": [],
   "source": [
    "def compute_gradient(x, y, w, b):\n",
    "    m, n = x.shape\n",
    "    dj_dw = np.zeros(n)\n",
    "    dj_db = 0\n",
    "    \n",
    "    for i in range(m):\n",
    "        err = (np.dot(x[i], w) + b) - y[i]\n",
    "        for j in range(n):\n",
    "            dj_dw[j] += err * x[i, j]\n",
    "        dj_db += err\n",
    "        \n",
    "    return dj_dw / m, dj_db / m"
   ]
  },
  {
   "cell_type": "code",
   "execution_count": 259,
   "id": "49c5d454",
   "metadata": {},
   "outputs": [],
   "source": [
    "def gradient_descent(x, y, w_in, b_in, alpha, num_iter, compute_cost, compute_gradient):\n",
    "    m, n = x.shape\n",
    "    w = copy.deepcopy(w_in)\n",
    "    b = b_in\n",
    "    j_hist = []\n",
    "    for i in range(num_iter):\n",
    "        dj_dw, dj_db = compute_gradient(x, y, w, b)\n",
    "        w = w - alpha * dj_dw\n",
    "        b = b - alpha * dj_db\n",
    "        \n",
    "        if i < 10000:\n",
    "            j_hist.append(compute_cost(x, y, w, b))\n",
    "        if i% math.ceil(num_iter / 10) == 0:\n",
    "            print(f\"Iteration {i:4d}: Cost {j_hist[-1]}   \")\n",
    "    return w, b, j_hist"
   ]
  },
  {
   "cell_type": "code",
   "execution_count": 261,
   "id": "bc0d00b1",
   "metadata": {},
   "outputs": [
    {
     "name": "stdout",
     "output_type": "stream",
     "text": [
      "Iteration    0: Cost 0.10712962962962962   \n",
      "Iteration  300: Cost 0.005760847816366283   \n",
      "Iteration  600: Cost 0.004717257566911965   \n",
      "Iteration  900: Cost 0.004699553640515612   \n",
      "Iteration 1200: Cost 0.004699253303280751   \n",
      "Iteration 1500: Cost 0.004699248208227111   \n",
      "Iteration 1800: Cost 0.0046992481217923605   \n",
      "Iteration 2100: Cost 0.004699248120326045   \n",
      "Iteration 2400: Cost 0.004699248120301183   \n",
      "Iteration 2700: Cost 0.004699248120300765   \n"
     ]
    }
   ],
   "source": [
    "alpha = 0.1\n",
    "num_iter = 3000\n",
    "w_in = np.zeros(X_train.shape[1])\n",
    "b_in = 0\n",
    "\n",
    "w, b, j_hist = gradient_descent(X_train, y_train, w_in, b_in, alpha, num_iter, compute_cost, compute_gradient)"
   ]
  },
  {
   "cell_type": "code",
   "execution_count": 262,
   "id": "2350a04d",
   "metadata": {},
   "outputs": [
    {
     "data": {
      "text/plain": [
       "(array([0.58646616, 0.56390977]), -1.1315789456259682)"
      ]
     },
     "execution_count": 262,
     "metadata": {},
     "output_type": "execute_result"
    }
   ],
   "source": [
    "w, b"
   ]
  },
  {
   "cell_type": "code",
   "execution_count": 263,
   "id": "d814fbc6",
   "metadata": {},
   "outputs": [
    {
     "data": {
      "image/png": "[encoded data removed]",
      "text/plain": [
       "<Figure size 432x288 with 1 Axes>"
      ]
     },
     "metadata": {
      "needs_background": "light"
     },
     "output_type": "display_data"
    }
   ],
   "source": [
    "plt.plot(j_hist)\n",
    "plt.show()"
   ]
  },
  {
   "cell_type": "code",
   "execution_count": 264,
   "id": "26e882f3",
   "metadata": {},
   "outputs": [
    {
     "data": {
      "image/png": "[encoded data removed]",
      "text/plain": [
       "<Figure size 864x216 with 2 Axes>"
      ]
     },
     "metadata": {
      "needs_background": "light"
     },
     "output_type": "display_data"
    }
   ],
   "source": [
    "m, n = X_train.shape\n",
    "yp = np.zeros(m)\n",
    "\n",
    "for i in range(m):\n",
    "    yp[i] = np.dot(X_train[i], w) + b\n",
    "    \n",
    "fig, ax = plt.subplots(1, 2, figsize=(12, 3), sharey=True)\n",
    "for i in range(len(ax)):\n",
    "    ax[i].scatter(X_train[:, i], y_train, label=\"target\")\n",
    "    ax[i].set_xlabel(X_features[i])\n",
    "    ax[i].scatter(X_train[:, i], yp, c=\"orange\", label=\"predict\")\n",
    "ax[0].set_ylabel(\"Price\")\n",
    "ax[0].legend()\n",
    "plt.show()"
   ]
  },
  {
   "cell_type": "code",
   "execution_count": 265,
   "id": "d0922986",
   "metadata": {},
   "outputs": [
    {
     "name": "stdout",
     "output_type": "stream",
     "text": [
      "[0.0075188  0.01879699 0.03007519 0.90977444 1.16917293 0.86466165]\n",
      "[0 0 0 1 1 1]\n"
     ]
    }
   ],
   "source": [
    "print(yp[:10])\n",
    "print(y_train[:10])"
   ]
  },
  {
   "cell_type": "code",
   "execution_count": 266,
   "id": "b4a9ff05",
   "metadata": {},
   "outputs": [],
   "source": [
    "def compute_z(x, w, b):\n",
    "    m, n = x.shape\n",
    "    \n",
    "    f_wb = np.zeros(m)\n",
    "    for i in range(m):\n",
    "        f_wb[i] = np.dot(x[i], w) + b\n",
    "    return f_wb"
   ]
  },
  {
   "cell_type": "code",
   "execution_count": 267,
   "id": "3822c869",
   "metadata": {},
   "outputs": [],
   "source": [
    "def sigmoid(z):\n",
    "    g = 1 / (1 + np.exp(-z))\n",
    "    return g"
   ]
  },
  {
   "cell_type": "code",
   "execution_count": 270,
   "id": "88bdde3a",
   "metadata": {},
   "outputs": [
    {
     "name": "stdout",
     "output_type": "stream",
     "text": [
      "[0.50187969 0.50469911 0.50751823 0.712954   0.76299549 0.70363369]\n"
     ]
    },
    {
     "data": {
      "image/png": "[encoded data removed]",
      "text/plain": [
       "<Figure size 432x288 with 1 Axes>"
      ]
     },
     "metadata": {
      "needs_background": "light"
     },
     "output_type": "display_data"
    }
   ],
   "source": [
    "z = compute_z(X_train, w, b)\n",
    "y = sigmoid(z)\n",
    "print(y)\n",
    "plt.plot(z, y)\n",
    "plt.show()"
   ]
  },
  {
   "cell_type": "code",
   "execution_count": null,
   "id": "410acd69",
   "metadata": {},
   "outputs": [],
   "source": []
  }
 ],
 "metadata": {
  "kernelspec": {
   "display_name": "Python 3 (ipykernel)",
   "language": "python",
   "name": "python3"
  },
  "language_info": {
   "codemirror_mode": {
    "name": "ipython",
    "version": 3
   },
   "file_extension": ".py",
   "mimetype": "text/x-python",
   "name": "python",
   "nbconvert_exporter": "python",
   "pygments_lexer": "ipython3",
   "version": "3.9.7"
  }
 },
 "nbformat": 4,
 "nbformat_minor": 5
}
