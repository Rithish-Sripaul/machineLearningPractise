{
 "cells": [
  {
   "cell_type": "code",
   "execution_count": 2,
   "id": "f3737abb-fde5-4f4b-b272-f59c7c62f0c2",
   "metadata": {},
   "outputs": [],
   "source": [
    "import pandas as pd\n",
    "import numpy as np\n",
    "import matplotlib.pyplot as plt\n",
    "import copy, math"
   ]
  },
  {
   "cell_type": "code",
   "execution_count": 3,
   "id": "3d47c8fa-c01e-4ee7-93c1-6b8ae913df0b",
   "metadata": {},
   "outputs": [],
   "source": [
    "X_train = np.array([[0.5, 1.5], [1,1], [1.5, 0.5], [3, 0.5], [2, 2], [1, 2.5]])\n",
    "y_train = np.array([0, 0, 0, 1, 1, 1])"
   ]
  },
  {
   "cell_type": "code",
   "execution_count": 4,
   "id": "b344d650-5751-46cf-8de5-49ccee50e2d4",
   "metadata": {},
   "outputs": [],
   "source": [
    "def plot_data(x, y, ax):\n",
    "    pos = y == 1\n",
    "    neg = y == 0\n",
    "    \n",
    "    pos = pos.reshape(-1)\n",
    "    ax.scatter(x[pos, 0], x[pos, 1], marker=\"x\", c='r')\n",
    "    ax.scatter(x[neg, 0], x[neg, 1], c=\"b\")"
   ]
  },
  {
   "cell_type": "code",
   "execution_count": 10,
   "id": "e3dd31ad-1f49-4286-a4a4-b1b374f6903b",
   "metadata": {},
   "outputs": [
    {
     "data": {
      "image/png": "[encoded data removed]",
      "text/plain": [
       "<Figure size 288x288 with 1 Axes>"
      ]
     },
     "metadata": {
      "needs_background": "light"
     },
     "output_type": "display_data"
    }
   ],
   "source": [
    "fig, ax = plt.subplots(1,1, figsize=(4, 4))\n",
    "ax.axis([0, 4, 0, 3.5])\n",
    "plot_data(X_train, y_train, ax)"
   ]
  },
  {
   "cell_type": "code",
   "execution_count": 12,
   "id": "2e3e84c6-8ec2-4fbe-afae-8da3fe2bf34f",
   "metadata": {},
   "outputs": [],
   "source": [
    "def sigmoid(z):\n",
    "    return 1 / (1 + np.exp(-z))"
   ]
  },
  {
   "cell_type": "code",
   "execution_count": 13,
   "id": "5178f159-77b6-4143-9484-ddc45f8684b7",
   "metadata": {},
   "outputs": [],
   "source": [
    "def compute_cost(x, y, w, b):\n",
    "    m, n = x.shape\n",
    "    j_wb = 0\n",
    "    \n",
    "    for i in range(m):\n",
    "        f_z = sigmoid(np.dot(x[i], w) + b)\n",
    "        j_wb += (-y[i]*np.log(f_z)) - ((1 - y[i])*np.log(1 - f_z))\n",
    "    \n",
    "    return j_wb / m"
   ]
  },
  {
   "cell_type": "code",
   "execution_count": 17,
   "id": "3c34334b-cd32-4427-884e-20d8e76f58de",
   "metadata": {},
   "outputs": [],
   "source": [
    "def compute_gradient(x, y, w, b):\n",
    "    m, n = x.shape\n",
    "    dj_dw = np.zeros(n)\n",
    "    dj_db = 0\n",
    "    \n",
    "    for i in range(m):\n",
    "        err = sigmoid(np.dot(x[i], w) + b) - y[i]\n",
    "        for j in range(n):\n",
    "            dj_dw[j] += err * x[i, j]\n",
    "        dj_db += err\n",
    "    return dj_dw / m, dj_db / m"
   ]
  },
  {
   "cell_type": "code",
   "execution_count": 18,
   "id": "b202d894-e42a-48d6-ade3-57d3ffb005f9",
   "metadata": {},
   "outputs": [],
   "source": [
    "def gradient_descent(x, y, w_in, b_in, alpha, num_iter, compute_cost, compute_gradient):\n",
    "    m, n = x.shape\n",
    "    w = copy.deepcopy(w_in)\n",
    "    b = b_in\n",
    "    j_hist = []\n",
    "    for i in range(num_iter):\n",
    "        dj_dw, dj_db = compute_gradient(x, y, w, b)\n",
    "        w = w - alpha*dj_dw\n",
    "        b = b - alpha*dj_db\n",
    "        \n",
    "        if i < 10000:\n",
    "            j_hist.append(compute_cost(x, y, w, b))\n",
    "        \n",
    "        if i % math.ceil(num_iter / 10) == 0:\n",
    "            print(f\"Iteration {i} \\t Cost: {j_hist[i]}\")\n",
    "    \n",
    "    return w, b, j_hist"
   ]
  },
  {
   "cell_type": "code",
   "execution_count": 24,
   "id": "b90ff300-a6d4-4aec-bf85-b69e9dfc05c7",
   "metadata": {},
   "outputs": [
    {
     "name": "stdout",
     "output_type": "stream",
     "text": [
      "Iteration 0 \t Cost: 0.6509898706978229\n",
      "Iteration 300 \t Cost: 0.06289392170962528\n",
      "Iteration 600 \t Cost: 0.03167855870694084\n",
      "Iteration 900 \t Cost: 0.021103215376538823\n",
      "Iteration 1200 \t Cost: 0.015808251462432754\n",
      "Iteration 1500 \t Cost: 0.012633492638369192\n",
      "Iteration 1800 \t Cost: 0.010519184271839925\n",
      "Iteration 2100 \t Cost: 0.009010491114471844\n",
      "Iteration 2400 \t Cost: 0.007879992749437152\n",
      "Iteration 2700 \t Cost: 0.007001407511457648\n"
     ]
    }
   ],
   "source": [
    "w_in = np.zeros(X_train.shape[1])\n",
    "b_in = 0\n",
    "alpha = 0.9\n",
    "num_iter = 3000\n",
    "w, b, j_hist = gradient_descent(X_train, y_train, w_in, b_in, alpha, num_iter, compute_cost, compute_gradient)"
   ]
  },
  {
   "cell_type": "code",
   "execution_count": 25,
   "id": "69388747-743c-4b0f-83f7-d6b9cdd22340",
   "metadata": {},
   "outputs": [
    {
     "data": {
      "image/png": "[encoded data removed]",
      "text/plain": [
       "<Figure size 432x288 with 1 Axes>"
      ]
     },
     "metadata": {
      "needs_background": "light"
     },
     "output_type": "display_data"
    }
   ],
   "source": [
    "plt.plot(j_hist)\n",
    "plt.show()"
   ]
  },
  {
   "cell_type": "code",
   "execution_count": 34,
   "id": "b43c0524-9c17-4a5e-9575-345a52100d43",
   "metadata": {},
   "outputs": [
    {
     "data": {
      "text/plain": [
       "[<matplotlib.lines.Line2D at 0x7f78b8dd2280>]"
      ]
     },
     "execution_count": 34,
     "metadata": {},
     "output_type": "execute_result"
    },
    {
     "data": {
      "image/png": "[encoded data removed]",
      "text/plain": [
       "<Figure size 288x288 with 1 Axes>"
      ]
     },
     "metadata": {
      "needs_background": "light"
     },
     "output_type": "display_data"
    }
   ],
   "source": [
    "fig, ax= plt.subplots(1, 1, figsize=(4, 4))\n",
    "plot_data(X_train, y_train, ax)\n",
    "ax.axis([0, 4, 0, 4])\n",
    "x0 = -b/w[0]\n",
    "x1 = -b/w[1]\n",
    "\n",
    "plt.plot([0, x0], [x0, 0], lw=1)"
   ]
  },
  {
   "cell_type": "code",
   "execution_count": null,
   "id": "ea560fad-a761-4b01-9527-b0c7d8988800",
   "metadata": {},
   "outputs": [],
   "source": []
  }
 ],
 "metadata": {
  "kernelspec": {
   "display_name": "Python 3 (ipykernel)",
   "language": "python",
   "name": "python3"
  },
  "language_info": {
   "codemirror_mode": {
    "name": "ipython",
    "version": 3
   },
   "file_extension": ".py",
   "mimetype": "text/x-python",
   "name": "python",
   "nbconvert_exporter": "python",
   "pygments_lexer": "ipython3",
   "version": "3.10.9"
  }
 },
 "nbformat": 4,
 "nbformat_minor": 5
}
