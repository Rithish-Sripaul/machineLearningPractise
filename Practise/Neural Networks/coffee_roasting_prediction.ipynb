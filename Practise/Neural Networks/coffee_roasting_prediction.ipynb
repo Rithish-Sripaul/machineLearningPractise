{
 "cells": [
  {
   "cell_type": "code",
   "execution_count": 2,
   "id": "0e63a227-e1aa-4fef-89be-e08c37a84ce7",
   "metadata": {
    "tags": []
   },
   "outputs": [],
   "source": [
    "import pandas as pd\n",
    "import numpy as np\n",
    "import matplotlib.pyplot as plt\n",
    "import tensorflow as tf\n",
    "from tensorflow.keras import Sequential\n",
    "from tensorflow.keras.layers import Dense, Input\n",
    "from tensorflow.keras.losses import MeanSquaredError, BinaryCrossentropy\n",
    "from tensorflow.keras.activations import sigmoid, relu\n",
    "from lab_coffee_utils import load_coffee_data"
   ]
  },
  {
   "cell_type": "code",
   "execution_count": 11,
   "id": "3f905090",
   "metadata": {},
   "outputs": [
    {
     "name": "stdout",
     "output_type": "stream",
     "text": [
      "(200, 2) (200, 1)\n"
     ]
    }
   ],
   "source": [
    "X, y = load_coffee_data()\n",
    "print(X.shape, y.shape)"
   ]
  },
  {
   "cell_type": "code",
   "execution_count": 15,
   "id": "a365398f",
   "metadata": {},
   "outputs": [
    {
     "name": "stdout",
     "output_type": "stream",
     "text": [
      "Temperature Max, Min pre normalization: 284.99, 151.32\n",
      "Duration    Max, Min pre normalization: 15.45, 11.51\n",
      "Temperature Max, Min post normalization: 1.66, -1.69\n",
      "Duration    Max, Min post normalization: 1.79, -1.70\n"
     ]
    }
   ],
   "source": [
    "print(f\"Temperature Max, Min pre normalization: {np.max(X[:,0]):0.2f}, {np.min(X[:,0]):0.2f}\")\n",
    "print(f\"Duration    Max, Min pre normalization: {np.max(X[:,1]):0.2f}, {np.min(X[:,1]):0.2f}\")\n",
    "norm_l = tf.keras.layers.Normalization(axis=-1)\n",
    "norm_l.adapt(X)\n",
    "Xn = norm_l(X)\n",
    "print(f\"Temperature Max, Min post normalization: {np.max(Xn[:,0]):0.2f}, {np.min(Xn[:,0]):0.2f}\")\n",
    "print(f\"Duration    Max, Min post normalization: {np.max(Xn[:,1]):0.2f}, {np.min(Xn[:,1]):0.2f}\")"
   ]
  },
  {
   "cell_type": "code",
   "execution_count": 17,
   "id": "9e11df55",
   "metadata": {},
   "outputs": [
    {
     "name": "stdout",
     "output_type": "stream",
     "text": [
      "(200000, 2) (200000, 1)\n"
     ]
    }
   ],
   "source": [
    "Xt = np.tile(Xn, (1000, 1))\n",
    "Yt = np.tile(y, (1000, 1))\n",
    "print(Xt.shape, Yt.shape)"
   ]
  },
  {
   "cell_type": "code",
   "execution_count": 19,
   "id": "67b49c53",
   "metadata": {},
   "outputs": [],
   "source": [
    "tf.random.set_seed(1234)\n",
    "model = Sequential(\n",
    "  [\n",
    "    tf.keras.Input(shape=(2,)),\n",
    "    Dense(3, activation=\"sigmoid\", name=\"layer1\"),\n",
    "    Dense(1, activation=\"sigmoid\", name=\"layer2\")\n",
    "  ]\n",
    ")"
   ]
  },
  {
   "cell_type": "code",
   "execution_count": 20,
   "id": "14c6cde7",
   "metadata": {},
   "outputs": [
    {
     "name": "stdout",
     "output_type": "stream",
     "text": [
      "Model: \"sequential\"\n",
      "_________________________________________________________________\n",
      " Layer (type)                Output Shape              Param #   \n",
      "=================================================================\n",
      " layer1 (Dense)              (None, 3)                 9         \n",
      "                                                                 \n",
      " layer2 (Dense)              (None, 1)                 4         \n",
      "                                                                 \n",
      "=================================================================\n",
      "Total params: 13\n",
      "Trainable params: 13\n",
      "Non-trainable params: 0\n",
      "_________________________________________________________________\n"
     ]
    }
   ],
   "source": [
    "model.summary()"
   ]
  },
  {
   "cell_type": "code",
   "execution_count": 22,
   "id": "66339c79",
   "metadata": {},
   "outputs": [
    {
     "name": "stdout",
     "output_type": "stream",
     "text": [
      "Epoch 1/10\n",
      "6250/6250 [==============================] - 2s 329us/step - loss: 0.0023\n",
      "Epoch 2/10\n",
      "6250/6250 [==============================] - 2s 322us/step - loss: 0.0017\n",
      "Epoch 3/10\n",
      "6250/6250 [==============================] - 2s 326us/step - loss: 0.0013\n",
      "Epoch 4/10\n",
      "6250/6250 [==============================] - 2s 319us/step - loss: 9.6675e-04\n",
      "Epoch 5/10\n",
      "6250/6250 [==============================] - 2s 320us/step - loss: 7.4972e-04\n",
      "Epoch 6/10\n",
      "6250/6250 [==============================] - 2s 324us/step - loss: 5.8506e-04\n",
      "Epoch 7/10\n",
      "6250/6250 [==============================] - 2s 322us/step - loss: 4.5989e-04\n",
      "Epoch 8/10\n",
      "6250/6250 [==============================] - 2s 322us/step - loss: 3.7428e-04\n",
      "Epoch 9/10\n",
      "6250/6250 [==============================] - 2s 320us/step - loss: 2.9597e-04\n",
      "Epoch 10/10\n",
      "6250/6250 [==============================] - 2s 323us/step - loss: 2.6340e-04\n"
     ]
    },
    {
     "data": {
      "text/plain": [
       "<keras.callbacks.History at 0x2881f3bb0>"
      ]
     },
     "execution_count": 22,
     "metadata": {},
     "output_type": "execute_result"
    }
   ],
   "source": [
    "model.compile(\n",
    "  loss = tf.keras.losses.BinaryCrossentropy(),\n",
    "  optimizer = tf.keras.optimizers.Adam(learning_rate=0.01)\n",
    ")\n",
    "model.fit(Xt, Yt, epochs=10)"
   ]
  },
  {
   "cell_type": "code",
   "execution_count": 26,
   "id": "ae4df044",
   "metadata": {},
   "outputs": [
    {
     "name": "stdout",
     "output_type": "stream",
     "text": [
      "[[ -0.20564644 -12.211443    16.231604  ]\n",
      " [ -9.464983    -0.27798384  13.467447  ]] [-11.693058  -13.16497     2.2666667]\n",
      "[[-72.39911]\n",
      " [-76.81499]\n",
      " [-62.92379]] [43.12784]\n"
     ]
    }
   ],
   "source": [
    "W1, b1 = model.get_layer(\"layer1\").get_weights()\n",
    "W2, b2 = model.get_layer(\"layer2\").get_weights()\n",
    "print(W1, b1)\n",
    "print(W2, b2)"
   ]
  },
  {
   "cell_type": "code",
   "execution_count": 28,
   "id": "ac4b88f5",
   "metadata": {},
   "outputs": [
    {
     "name": "stdout",
     "output_type": "stream",
     "text": [
      "1/1 [==============================] - 0s 15ms/step\n",
      "[[9.9922967e-01]\n",
      " [2.4817723e-09]]\n"
     ]
    }
   ],
   "source": [
    "X_test = np.array([\n",
    "  [200, 13.9],\n",
    "  [200, 17]\n",
    "])\n",
    "X_testn = norm_l(X_test)\n",
    "prediction = model.predict(X_testn)\n",
    "print(prediction)"
   ]
  },
  {
   "cell_type": "code",
   "execution_count": 30,
   "id": "8dc02dde",
   "metadata": {},
   "outputs": [
    {
     "name": "stdout",
     "output_type": "stream",
     "text": [
      "[[1.]\n",
      " [0.]]\n"
     ]
    }
   ],
   "source": [
    "yhat = np.zeros_like(prediction)\n",
    "for i in range(len(prediction)):\n",
    "  if prediction[i] >= 0.5:\n",
    "    yhat[i] = 1\n",
    "  else:\n",
    "    yhat[i] = 0\n",
    "print(yhat)"
   ]
  },
  {
   "cell_type": "code",
   "execution_count": null,
   "id": "8d1a277d",
   "metadata": {},
   "outputs": [],
   "source": []
  }
 ],
 "metadata": {
  "kernelspec": {
   "display_name": "Python 3 (ipykernel)",
   "language": "python",
   "name": "python3"
  },
  "language_info": {
   "codemirror_mode": {
    "name": "ipython",
    "version": 3
   },
   "file_extension": ".py",
   "mimetype": "text/x-python",
   "name": "python",
   "nbconvert_exporter": "python",
   "pygments_lexer": "ipython3",
   "version": "3.10.9"
  }
 },
 "nbformat": 4,
 "nbformat_minor": 5
}
