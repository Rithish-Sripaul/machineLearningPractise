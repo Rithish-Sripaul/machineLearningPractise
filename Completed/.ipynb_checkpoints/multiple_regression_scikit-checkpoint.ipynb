{
 "cells": [
  {
   "cell_type": "code",
   "execution_count": 1,
   "id": "9ae9e85d-693f-4f76-bacb-d6cba9141777",
   "metadata": {},
   "outputs": [],
   "source": [
    "import numpy as np\n",
    "import pandas as pd\n",
    "import matplotlib.pyplot as plt"
   ]
  },
  {
   "cell_type": "code",
   "execution_count": 3,
   "id": "87a040c2-dc8d-4c98-aa6e-c3408bbda803",
   "metadata": {},
   "outputs": [
    {
     "name": "stdout",
     "output_type": "stream",
     "text": [
      "     area  bedrooms  bathrooms  stories\n",
      "0    7420         4          2        3\n",
      "1    8960         4          4        4\n",
      "2    9960         3          2        2\n",
      "3    7500         4          2        2\n",
      "4    7420         4          1        2\n",
      "..    ...       ...        ...      ...\n",
      "540  3000         2          1        1\n",
      "541  2400         3          1        1\n",
      "542  3620         2          1        1\n",
      "543  2910         3          1        1\n",
      "544  3850         3          1        2\n",
      "\n",
      "[545 rows x 4 columns]\n",
      "0      13300000\n",
      "1      12250000\n",
      "2      12250000\n",
      "3      12215000\n",
      "4      11410000\n",
      "         ...   \n",
      "540     1820000\n",
      "541     1767150\n",
      "542     1750000\n",
      "543     1750000\n",
      "544     1750000\n",
      "Name: price, Length: 545, dtype: int64\n"
     ]
    }
   ],
   "source": [
    "dataset = pd.read_csv(\"../Housing.csv\")\n",
    "X_train = dataset.iloc[:, 1:5].values\n",
    "y_train = dataset.iloc[:, 0].values\n",
    "y_train = y_train / (10**7)\n",
    "print(dataset.iloc[:, 1:5])\n",
    "print(dataset.iloc[:, 0])\n",
    "X_features=[\"area\", \"bedroom\", \"bathroom\", \"stories\"]"
   ]
  },
  {
   "cell_type": "code",
   "execution_count": 4,
   "id": "ff8f19ac-30ba-4ca3-9a7f-f500df198169",
   "metadata": {},
   "outputs": [
    {
     "name": "stdout",
     "output_type": "stream",
     "text": [
      "[[ 1.04672629  1.40341936  1.42181174  1.37821692]\n",
      " [ 1.75700953  1.40341936  5.40580863  2.53202371]\n",
      " [ 2.21823241  0.04727831  1.42181174  0.22441013]\n",
      " ...\n",
      " [-0.70592066 -1.30886273 -0.57018671 -0.92939666]\n",
      " [-1.03338891  0.04727831 -0.57018671 -0.92939666]\n",
      " [-0.5998394   0.04727831 -0.57018671  0.22441013]]\n"
     ]
    }
   ],
   "source": [
    "from sklearn.preprocessing import StandardScaler\n",
    "scaler = StandardScaler()\n",
    "X_norm = scaler.fit_transform(X_train)\n",
    "print(X_norm)"
   ]
  },
  {
   "cell_type": "code",
   "execution_count": 5,
   "id": "ce3dbb6a-6c0e-4400-a87f-4f13288494c8",
   "metadata": {},
   "outputs": [
    {
     "data": {
      "text/plain": [
       "SGDRegressor()"
      ]
     },
     "execution_count": 5,
     "metadata": {},
     "output_type": "execute_result"
    }
   ],
   "source": [
    "from sklearn.linear_model import SGDRegressor\n",
    "sgdr = SGDRegressor()\n",
    "sgdr.fit(X_norm, y_train)"
   ]
  },
  {
   "cell_type": "code",
   "execution_count": 6,
   "id": "0e51555f-2150-4826-b38f-eaece6c22179",
   "metadata": {},
   "outputs": [
    {
     "name": "stdout",
     "output_type": "stream",
     "text": [
      "[0.08189276 0.01506886 0.0597618  0.04591939] [0.47617464]\n"
     ]
    }
   ],
   "source": [
    "w = sgdr.coef_\n",
    "b = sgdr.intercept_\n",
    "print(w, b)"
   ]
  },
  {
   "cell_type": "code",
   "execution_count": 13,
   "id": "eed48bfc-ca5d-4d81-b0f1-380c3c1d08a2",
   "metadata": {},
   "outputs": [
    {
     "data": {
      "text/plain": [
       "0.5355722267917296"
      ]
     },
     "execution_count": 13,
     "metadata": {},
     "output_type": "execute_result"
    }
   ],
   "source": [
    "y_pred = sgdr.predict(X_norm)\n",
    "sgdr.score(X_norm, y_train)"
   ]
  },
  {
   "cell_type": "code",
   "execution_count": null,
   "id": "0445ba3d-d10e-45a2-9c3f-68e75ef3a5e3",
   "metadata": {},
   "outputs": [],
   "source": []
  }
 ],
 "metadata": {
  "kernelspec": {
   "display_name": "Python 3 (ipykernel)",
   "language": "python",
   "name": "python3"
  },
  "language_info": {
   "codemirror_mode": {
    "name": "ipython",
    "version": 3
   },
   "file_extension": ".py",
   "mimetype": "text/x-python",
   "name": "python",
   "nbconvert_exporter": "python",
   "pygments_lexer": "ipython3",
   "version": "3.9.7"
  }
 },
 "nbformat": 4,
 "nbformat_minor": 5
}
