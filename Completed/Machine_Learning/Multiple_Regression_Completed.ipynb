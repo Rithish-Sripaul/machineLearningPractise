{
 "cells": [
  {
   "cell_type": "code",
   "execution_count": 189,
   "id": "e31c1655",
   "metadata": {},
   "outputs": [],
   "source": [
    "import numpy as np\n",
    "import pandas as pd\n",
    "import matplotlib.pyplot as plt\n",
    "import copy, math"
   ]
  },
  {
   "cell_type": "code",
   "execution_count": 190,
   "id": "4fb8ff85",
   "metadata": {},
   "outputs": [],
   "source": [
    "def z_score_normalization(X):\n",
    "    mu = np.mean(X, axis=0)\n",
    "    sigma = np.std(X, axis=0)\n",
    "    X_norm = (X - mu) / sigma\n",
    "    print(X_norm)\n",
    "    return (X_norm, mu, sigma)"
   ]
  },
  {
   "cell_type": "code",
   "execution_count": 191,
   "id": "3dff7fc1",
   "metadata": {},
   "outputs": [
    {
     "name": "stdout",
     "output_type": "stream",
     "text": [
      "[[1.9520000e+03 6.8750000e+01 1.4785584e+07]\n",
      " [1.9570000e+03 6.9960000e+01 1.7010154e+07]\n",
      " [1.9620000e+03 7.1300000e+01 1.8985849e+07]\n",
      " [1.9670000e+03 7.2130000e+01 2.0819767e+07]\n",
      " [1.9720000e+03 7.2880000e+01 2.2284500e+07]\n",
      " [1.9770000e+03 7.4210000e+01 2.3796400e+07]\n",
      " [1.9820000e+03 7.5760000e+01 2.5201900e+07]\n",
      " [1.9870000e+03 7.6860000e+01 2.6549700e+07]\n",
      " [1.9920000e+03 7.7950000e+01 2.8523502e+07]\n",
      " [1.9970000e+03 7.8610000e+01 3.0305843e+07]\n",
      " [2.0020000e+03 7.9770000e+01 3.1902268e+07]\n",
      " [2.0070000e+03 8.0653000e+01 3.3390141e+07]]\n",
      "[11367.16112 12489.95006 13462.48555 16076.58803 18970.57086 22090.88306\n",
      " 22898.79214 26626.51503 26342.88426 28954.92589 33328.96507 36319.23501]\n"
     ]
    }
   ],
   "source": [
    "dataset = pd.read_csv(\"canada_per_capita_income.csv\")\n",
    "X_train = dataset.iloc[:, 2:-1].values\n",
    "y_train = dataset.iloc[:, -1].values\n",
    "print(X_train)\n",
    "print(y_train)\n",
    "X_features=[\"year\", \"lifeExp\", \"pop\"]"
   ]
  },
  {
   "cell_type": "code",
   "execution_count": 192,
   "id": "96d0126b",
   "metadata": {},
   "outputs": [],
   "source": [
    "def display_x_train(X_train, X_features):\n",
    "    fig, ax = plt.subplots(1, 3, figsize=(12, 3), sharey=True)\n",
    "    for i in range(len(ax)):\n",
    "        ax[i].scatter(X_train[:, i], y_train, c=\"b\")\n",
    "        ax[i].set_xlabel(X_features[i])\n",
    "    plt.show()"
   ]
  },
  {
   "cell_type": "code",
   "execution_count": 193,
   "id": "8148cfe5",
   "metadata": {},
   "outputs": [
    {
     "data": {
      "image/png": "[encoded data removed]",
      "text/plain": [
       "<Figure size 864x216 with 3 Axes>"
      ]
     },
     "metadata": {
      "needs_background": "light"
     },
     "output_type": "display_data"
    }
   ],
   "source": [
    "display_x_train(X_train, X_features)"
   ]
  },
  {
   "cell_type": "code",
   "execution_count": 196,
   "id": "320cd434",
   "metadata": {},
   "outputs": [
    {
     "name": "stdout",
     "output_type": "stream",
     "text": [
      "[[-1.59325501 -1.62573914 -1.70140552]\n",
      " [-1.30357228 -1.30602123 -1.31029818]\n",
      " [-1.01388955 -0.95195346 -0.96294619]\n",
      " [-0.72420682 -0.73264283 -0.64052037]\n",
      " [-0.43452409 -0.53447058 -0.38300191]\n",
      " [-0.14484136 -0.18304511 -0.11719091]\n",
      " [ 0.14484136  0.22651089  0.12991364]\n",
      " [ 0.43452409  0.51716353  0.36687381]\n",
      " [ 0.72420682  0.80517388  0.71389299]\n",
      " [ 1.01388955  0.97956546  1.02725092]\n",
      " [ 1.30357228  1.28607189  1.30792248]\n",
      " [ 1.59325501  1.51938669  1.56950924]]\n",
      "[3.70074342e-17 2.59052039e-16 2.40548322e-16] [1. 1. 1.]\n"
     ]
    }
   ],
   "source": [
    "#max_X = copy.deepcopy(X_train[0])\n",
    "#for i in range(len(X_train)):\n",
    "#    for j in range(4):\n",
    "#        max_X[j] = max(max_X[j], X_train[i][j])\n",
    "#X_train = X_train / max_X\n",
    "\n",
    "\n",
    "X_train, X_mu, x_sigma = z_score_normalization(X_train)\n",
    "print(X_mu, x_sigma)\n",
    "y_train = y_train / 1000"
   ]
  },
  {
   "cell_type": "code",
   "execution_count": 197,
   "id": "25eaf54a",
   "metadata": {},
   "outputs": [
    {
     "data": {
      "image/png": "[encoded data removed]",
      "text/plain": [
       "<Figure size 864x216 with 3 Axes>"
      ]
     },
     "metadata": {
      "needs_background": "light"
     },
     "output_type": "display_data"
    }
   ],
   "source": [
    "display_x_train(X_norm, X_features)"
   ]
  },
  {
   "cell_type": "code",
   "execution_count": 198,
   "id": "528f1735",
   "metadata": {},
   "outputs": [],
   "source": [
    "def compute_train_model(x, w, b):\n",
    "    m, n = x.shape\n",
    "    f_wb = np.zeros(m)\n",
    "    for i in range(m):\n",
    "        f_wb[i] = np.dot(x[i], w) + b\n",
    "    return f_wb"
   ]
  },
  {
   "cell_type": "code",
   "execution_count": 199,
   "id": "b30fadcd",
   "metadata": {},
   "outputs": [],
   "source": [
    "def compute_cost(x, y, w, b):\n",
    "    m, n = x.shape\n",
    "    j_wb = 0\n",
    "    \n",
    "    for i in range(m):\n",
    "        f_wb = np.dot(x[i], w) + b\n",
    "        j_wb += (f_wb - y[i]) ** 2\n",
    "    return j_wb / (2 * m)"
   ]
  },
  {
   "cell_type": "code",
   "execution_count": 200,
   "id": "68dab28d",
   "metadata": {},
   "outputs": [],
   "source": [
    "def compute_gradient(x, y, w, b):\n",
    "    m, n = x.shape\n",
    "    dj_dw = np.zeros(n)\n",
    "    dj_db = 0\n",
    "    \n",
    "    for i in range(m):\n",
    "        err = (np.dot(x[i], w) + b) - y[i]\n",
    "        for j in range(n):\n",
    "            dj_dw[j] += err * x[i, j]\n",
    "        dj_db += err\n",
    "        \n",
    "    return dj_dw / m, dj_db / m"
   ]
  },
  {
   "cell_type": "code",
   "execution_count": 201,
   "id": "49c5d454",
   "metadata": {},
   "outputs": [],
   "source": [
    "def gradient_descent(x, y, w_in, b_in, alpha, num_iter, compute_cost, compute_gradient):\n",
    "    m, n = x.shape\n",
    "    w = copy.deepcopy(w_in)\n",
    "    b = b_in\n",
    "    j_hist = []\n",
    "    for i in range(num_iter):\n",
    "        dj_dw, dj_db = compute_gradient(x, y, w, b)\n",
    "        w = w - alpha * dj_dw\n",
    "        b = b - alpha * dj_db\n",
    "        \n",
    "        if i < 10000:\n",
    "            j_hist.append(compute_cost(x, y, w, b))\n",
    "        if i% math.ceil(num_iter / 10) == 0:\n",
    "            print(f\"Iteration {i:4d}: Cost {j_hist[-1]}   \")\n",
    "    return w, b, j_hist"
   ]
  },
  {
   "cell_type": "code",
   "execution_count": 202,
   "id": "bc0d00b1",
   "metadata": {},
   "outputs": [
    {
     "name": "stdout",
     "output_type": "stream",
     "text": [
      "Iteration    0: Cost 275.2355590473438   \n",
      "Iteration  300: Cost 1.2823453291843379   \n",
      "Iteration  600: Cost 0.6895772454808587   \n",
      "Iteration  900: Cost 0.6859073567987625   \n",
      "Iteration 1200: Cost 0.6836665186727034   \n",
      "Iteration 1500: Cost 0.6814412917004743   \n",
      "Iteration 1800: Cost 0.6792281872024569   \n",
      "Iteration 2100: Cost 0.677027108540662   \n",
      "Iteration 2400: Cost 0.6748379683122501   \n",
      "Iteration 2700: Cost 0.6726606801944861   \n"
     ]
    }
   ],
   "source": [
    "alpha = 0.01\n",
    "num_iter = 3000\n",
    "w_in = np.zeros(X_train.shape[1])\n",
    "b_in = 0\n",
    "\n",
    "w, b, j_hist = gradient_descent(X_train, y_train, w_in, b_in, alpha, num_iter, compute_cost, compute_gradient)"
   ]
  },
  {
   "cell_type": "code",
   "execution_count": 203,
   "id": "2350a04d",
   "metadata": {},
   "outputs": [
    {
     "data": {
      "text/plain": [
       "(array([3.25765067, 2.21244848, 2.30718832]), 22.41074633999819)"
      ]
     },
     "execution_count": 203,
     "metadata": {},
     "output_type": "execute_result"
    }
   ],
   "source": [
    "w, b"
   ]
  },
  {
   "cell_type": "code",
   "execution_count": 204,
   "id": "d814fbc6",
   "metadata": {},
   "outputs": [
    {
     "data": {
      "image/png": "[encoded data removed]",
      "text/plain": [
       "<Figure size 432x288 with 1 Axes>"
      ]
     },
     "metadata": {
      "needs_background": "light"
     },
     "output_type": "display_data"
    }
   ],
   "source": [
    "plt.plot(j_hist)\n",
    "plt.show()"
   ]
  },
  {
   "cell_type": "code",
   "execution_count": 205,
   "id": "26e882f3",
   "metadata": {},
   "outputs": [
    {
     "ename": "IndexError",
     "evalue": "index 3 is out of bounds for axis 1 with size 3",
     "output_type": "error",
     "traceback": [
      "\u001b[0;31m---------------------------------------------------------------------------\u001b[0m",
      "\u001b[0;31mIndexError\u001b[0m                                Traceback (most recent call last)",
      "\u001b[0;32m/var/folders/dp/sg0xcrv947v71pz5pp9fvrp00000gn/T/ipykernel_77742/3889469960.py\u001b[0m in \u001b[0;36m<module>\u001b[0;34m\u001b[0m\n\u001b[1;32m      7\u001b[0m \u001b[0mfig\u001b[0m\u001b[0;34m,\u001b[0m \u001b[0max\u001b[0m \u001b[0;34m=\u001b[0m \u001b[0mplt\u001b[0m\u001b[0;34m.\u001b[0m\u001b[0msubplots\u001b[0m\u001b[0;34m(\u001b[0m\u001b[0;36m1\u001b[0m\u001b[0;34m,\u001b[0m \u001b[0;36m4\u001b[0m\u001b[0;34m,\u001b[0m \u001b[0mfigsize\u001b[0m\u001b[0;34m=\u001b[0m\u001b[0;34m(\u001b[0m\u001b[0;36m12\u001b[0m\u001b[0;34m,\u001b[0m \u001b[0;36m3\u001b[0m\u001b[0;34m)\u001b[0m\u001b[0;34m,\u001b[0m \u001b[0msharey\u001b[0m\u001b[0;34m=\u001b[0m\u001b[0;32mTrue\u001b[0m\u001b[0;34m)\u001b[0m\u001b[0;34m\u001b[0m\u001b[0;34m\u001b[0m\u001b[0m\n\u001b[1;32m      8\u001b[0m \u001b[0;32mfor\u001b[0m \u001b[0mi\u001b[0m \u001b[0;32min\u001b[0m \u001b[0mrange\u001b[0m\u001b[0;34m(\u001b[0m\u001b[0mlen\u001b[0m\u001b[0;34m(\u001b[0m\u001b[0max\u001b[0m\u001b[0;34m)\u001b[0m\u001b[0;34m)\u001b[0m\u001b[0;34m:\u001b[0m\u001b[0;34m\u001b[0m\u001b[0;34m\u001b[0m\u001b[0m\n\u001b[0;32m----> 9\u001b[0;31m     \u001b[0max\u001b[0m\u001b[0;34m[\u001b[0m\u001b[0mi\u001b[0m\u001b[0;34m]\u001b[0m\u001b[0;34m.\u001b[0m\u001b[0mscatter\u001b[0m\u001b[0;34m(\u001b[0m\u001b[0mX_train\u001b[0m\u001b[0;34m[\u001b[0m\u001b[0;34m:\u001b[0m\u001b[0;34m,\u001b[0m \u001b[0mi\u001b[0m\u001b[0;34m]\u001b[0m\u001b[0;34m,\u001b[0m \u001b[0my_train\u001b[0m\u001b[0;34m,\u001b[0m \u001b[0mlabel\u001b[0m\u001b[0;34m=\u001b[0m\u001b[0;34m\"target\"\u001b[0m\u001b[0;34m)\u001b[0m\u001b[0;34m\u001b[0m\u001b[0;34m\u001b[0m\u001b[0m\n\u001b[0m\u001b[1;32m     10\u001b[0m     \u001b[0max\u001b[0m\u001b[0;34m[\u001b[0m\u001b[0mi\u001b[0m\u001b[0;34m]\u001b[0m\u001b[0;34m.\u001b[0m\u001b[0mset_xlabel\u001b[0m\u001b[0;34m(\u001b[0m\u001b[0mX_features\u001b[0m\u001b[0;34m[\u001b[0m\u001b[0mi\u001b[0m\u001b[0;34m]\u001b[0m\u001b[0;34m)\u001b[0m\u001b[0;34m\u001b[0m\u001b[0;34m\u001b[0m\u001b[0m\n\u001b[1;32m     11\u001b[0m     \u001b[0max\u001b[0m\u001b[0;34m[\u001b[0m\u001b[0mi\u001b[0m\u001b[0;34m]\u001b[0m\u001b[0;34m.\u001b[0m\u001b[0mscatter\u001b[0m\u001b[0;34m(\u001b[0m\u001b[0mX_train\u001b[0m\u001b[0;34m[\u001b[0m\u001b[0;34m:\u001b[0m\u001b[0;34m,\u001b[0m \u001b[0mi\u001b[0m\u001b[0;34m]\u001b[0m\u001b[0;34m,\u001b[0m \u001b[0myp\u001b[0m\u001b[0;34m,\u001b[0m \u001b[0mc\u001b[0m\u001b[0;34m=\u001b[0m\u001b[0;34m\"orange\"\u001b[0m\u001b[0;34m,\u001b[0m \u001b[0mlabel\u001b[0m\u001b[0;34m=\u001b[0m\u001b[0;34m\"predict\"\u001b[0m\u001b[0;34m)\u001b[0m\u001b[0;34m\u001b[0m\u001b[0;34m\u001b[0m\u001b[0m\n",
      "\u001b[0;31mIndexError\u001b[0m: index 3 is out of bounds for axis 1 with size 3"
     ]
    },
    {
     "data": {
      "image/png": "[encoded data removed]",
      "text/plain": [
       "<Figure size 864x216 with 4 Axes>"
      ]
     },
     "metadata": {
      "needs_background": "light"
     },
     "output_type": "display_data"
    }
   ],
   "source": [
    "m, n = X_train.shape\n",
    "yp = np.zeros(m)\n",
    "\n",
    "for i in range(m):\n",
    "    yp[i] = np.dot(X_train[i], w) + b\n",
    "    \n",
    "fig, ax = plt.subplots(1, 4, figsize=(12, 3), sharey=True)\n",
    "for i in range(len(ax)):\n",
    "    ax[i].scatter(X_train[:, i], y_train, label=\"target\")\n",
    "    ax[i].set_xlabel(X_features[i])\n",
    "    ax[i].scatter(X_train[:, i], yp, c=\"orange\", label=\"predict\")\n",
    "ax[0].scatter(, w[0])\n",
    "ax[0].set_ylabel(\"Price\")\n",
    "ax[0].legend()\n",
    "plt.show()"
   ]
  },
  {
   "cell_type": "code",
   "execution_count": 209,
   "id": "d0922986",
   "metadata": {},
   "outputs": [
    {
     "name": "stdout",
     "output_type": "stream",
     "text": [
      "2020.0\n"
     ]
    }
   ],
   "source": [
    "print((2020-X_mu[0])/x_sigma[0])"
   ]
  },
  {
   "cell_type": "code",
   "execution_count": null,
   "id": "c102f0ae",
   "metadata": {},
   "outputs": [],
   "source": []
  }
 ],
 "metadata": {
  "kernelspec": {
   "display_name": "Python 3 (ipykernel)",
   "language": "python",
   "name": "python3"
  },
  "language_info": {
   "codemirror_mode": {
    "name": "ipython",
    "version": 3
   },
   "file_extension": ".py",
   "mimetype": "text/x-python",
   "name": "python",
   "nbconvert_exporter": "python",
   "pygments_lexer": "ipython3",
   "version": "3.9.7"
  }
 },
 "nbformat": 4,
 "nbformat_minor": 5
}
