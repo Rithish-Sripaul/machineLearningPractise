{
 "cells": [
  {
   "cell_type": "code",
   "execution_count": 1,
   "id": "cb723017",
   "metadata": {},
   "outputs": [],
   "source": [
    "import pandas as pd\n",
    "import numpy as np\n",
    "import matplotlib.pyplot as plt\n",
    "import copy, math"
   ]
  },
  {
   "cell_type": "code",
   "execution_count": null,
   "id": "4a0fede1",
   "metadata": {},
   "outputs": [],
   "source": [
    "dataset = pd.read_csv(\"Crop_recommendation.csv\")\n",
    "X_train = dataset.iloc[:, 3:6].values"
   ]
  }
 ],
 "metadata": {
  "kernelspec": {
   "display_name": "Python 3 (ipykernel)",
   "language": "python",
   "name": "python3"
  },
  "language_info": {
   "codemirror_mode": {
    "name": "ipython",
    "version": 3
   },
   "file_extension": ".py",
   "mimetype": "text/x-python",
   "name": "python",
   "nbconvert_exporter": "python",
   "pygments_lexer": "ipython3",
   "version": "3.9.7"
  }
 },
 "nbformat": 4,
 "nbformat_minor": 5
}
